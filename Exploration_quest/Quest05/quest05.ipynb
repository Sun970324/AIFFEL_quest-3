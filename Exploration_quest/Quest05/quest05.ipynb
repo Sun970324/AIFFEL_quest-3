{
 "cells": [
  {
   "cell_type": "markdown",
   "id": "674c888a-d48c-4f5a-a939-f367ebfa2eaf",
   "metadata": {},
   "source": [
    "https://wikidocs.net/89786"
   ]
  },
  {
   "cell_type": "code",
   "execution_count": 1,
   "id": "efafd2df-8e82-46b5-82a9-14796a20da8d",
   "metadata": {},
   "outputs": [
    {
     "name": "stderr",
     "output_type": "stream",
     "text": [
      "2024-08-23 16:42:50.169338: I tensorflow/core/platform/cpu_feature_guard.cc:182] This TensorFlow binary is optimized to use available CPU instructions in performance-critical operations.\n",
      "To enable the following instructions: AVX2 FMA, in other operations, rebuild TensorFlow with the appropriate compiler flags.\n",
      "2024-08-23 16:42:50.760946: W tensorflow/compiler/tf2tensorrt/utils/py_utils.cc:38] TF-TRT Warning: Could not find TensorRT\n"
     ]
    }
   ],
   "source": [
    "import pandas as pd\n",
    "import numpy as np\n",
    "import matplotlib.pyplot as plt\n",
    "import re\n",
    "import urllib.request\n",
    "import time\n",
    "import tensorflow_datasets as tfds\n",
    "import tensorflow as tf"
   ]
  },
  {
   "cell_type": "markdown",
   "id": "9a09e46e-cadb-4bc8-a9c2-404191086d2c",
   "metadata": {},
   "source": [
    "# 데이터 로드, 전처리"
   ]
  },
  {
   "cell_type": "code",
   "execution_count": 2,
   "id": "9dd2569b-129d-4c61-bfcb-c1272abf80c3",
   "metadata": {},
   "outputs": [
    {
     "data": {
      "text/html": [
       "<div>\n",
       "<style scoped>\n",
       "    .dataframe tbody tr th:only-of-type {\n",
       "        vertical-align: middle;\n",
       "    }\n",
       "\n",
       "    .dataframe tbody tr th {\n",
       "        vertical-align: top;\n",
       "    }\n",
       "\n",
       "    .dataframe thead th {\n",
       "        text-align: right;\n",
       "    }\n",
       "</style>\n",
       "<table border=\"1\" class=\"dataframe\">\n",
       "  <thead>\n",
       "    <tr style=\"text-align: right;\">\n",
       "      <th></th>\n",
       "      <th>Q</th>\n",
       "      <th>A</th>\n",
       "      <th>label</th>\n",
       "    </tr>\n",
       "  </thead>\n",
       "  <tbody>\n",
       "    <tr>\n",
       "      <th>0</th>\n",
       "      <td>12시 땡!</td>\n",
       "      <td>하루가 또 가네요.</td>\n",
       "      <td>0</td>\n",
       "    </tr>\n",
       "    <tr>\n",
       "      <th>1</th>\n",
       "      <td>1지망 학교 떨어졌어</td>\n",
       "      <td>위로해 드립니다.</td>\n",
       "      <td>0</td>\n",
       "    </tr>\n",
       "    <tr>\n",
       "      <th>2</th>\n",
       "      <td>3박4일 놀러가고 싶다</td>\n",
       "      <td>여행은 언제나 좋죠.</td>\n",
       "      <td>0</td>\n",
       "    </tr>\n",
       "    <tr>\n",
       "      <th>3</th>\n",
       "      <td>3박4일 정도 놀러가고 싶다</td>\n",
       "      <td>여행은 언제나 좋죠.</td>\n",
       "      <td>0</td>\n",
       "    </tr>\n",
       "    <tr>\n",
       "      <th>4</th>\n",
       "      <td>PPL 심하네</td>\n",
       "      <td>눈살이 찌푸려지죠.</td>\n",
       "      <td>0</td>\n",
       "    </tr>\n",
       "  </tbody>\n",
       "</table>\n",
       "</div>"
      ],
      "text/plain": [
       "                 Q            A  label\n",
       "0           12시 땡!   하루가 또 가네요.      0\n",
       "1      1지망 학교 떨어졌어    위로해 드립니다.      0\n",
       "2     3박4일 놀러가고 싶다  여행은 언제나 좋죠.      0\n",
       "3  3박4일 정도 놀러가고 싶다  여행은 언제나 좋죠.      0\n",
       "4          PPL 심하네   눈살이 찌푸려지죠.      0"
      ]
     },
     "execution_count": 2,
     "metadata": {},
     "output_type": "execute_result"
    }
   ],
   "source": [
    "# urllib.request.urlretrieve(\"https://raw.githubusercontent.com/songys/Chatbot_data/master/ChatbotData.csv\", filename=\"ChatBotData.csv\")\n",
    "data = pd.read_csv('ChatBotData.csv')\n",
    "data.head()"
   ]
  },
  {
   "cell_type": "code",
   "execution_count": 3,
   "id": "e71e1fa0-80e6-4e7c-9e3c-9e80d20e8775",
   "metadata": {},
   "outputs": [],
   "source": [
    "train_data = data.copy()"
   ]
  },
  {
   "cell_type": "code",
   "execution_count": 4,
   "id": "d7ae9ea5-ec6e-4a3c-aaf7-ca04a8efcf22",
   "metadata": {},
   "outputs": [
    {
     "name": "stdout",
     "output_type": "stream",
     "text": [
      "챗봇 샘플의 개수 : 11823\n"
     ]
    }
   ],
   "source": [
    "print('챗봇 샘플의 개수 :', len(train_data))"
   ]
  },
  {
   "cell_type": "code",
   "execution_count": 5,
   "id": "e6becec1-69ac-4b10-85d1-bec910031ccf",
   "metadata": {},
   "outputs": [
    {
     "name": "stdout",
     "output_type": "stream",
     "text": [
      "Q        0\n",
      "A        0\n",
      "label    0\n",
      "dtype: int64\n"
     ]
    }
   ],
   "source": [
    "print(train_data.isnull().sum())"
   ]
  },
  {
   "cell_type": "code",
   "execution_count": 6,
   "id": "b0588059-5b68-448c-b646-df3430941e1d",
   "metadata": {},
   "outputs": [],
   "source": [
    "# 데이터 전처리( 구두점 제거)\n",
    "# 전처리 함수\n",
    "def preprocess_sentence(sentence):\n",
    "    # 입력받은 sentence양쪽 공백을 제거\n",
    "    sentence = sentence.strip()\n",
    "    \n",
    "    # 단어와 구두점(punctuation) 사이의 거리를 만듭니다.\n",
    "    # 예를 들어서 \"I am a student.\" => \"I am a student .\"와 같이\n",
    "    # student와 특수문자 사이에 거리를 만듭니다.\n",
    "    sentence = re.sub(r\"([?.!,])\", r\" \\1 \", sentence)  # ?.!, 앞 뒤로 공백 추가\n",
    "    sentence = re.sub(r'[\" \"]+', \" \", sentence)  # 하나이상의 연속된 공백을 단일 공백문자로 대체\n",
    "    \n",
    "    #영어와 한글, [.,?!]을 제외한 모든 문자 지우기\n",
    "    sentence = re.sub(r\"[^가-힣a-zA-Z.,?!]\", \" \", sentence)\n",
    "    sentence = sentence.strip()\n",
    "    return sentence"
   ]
  },
  {
   "cell_type": "code",
   "execution_count": 7,
   "id": "a2f87288-b685-4c30-ae63-c4598c98e46d",
   "metadata": {},
   "outputs": [],
   "source": [
    "questions = []\n",
    "answers = []\n",
    "\n",
    "for sentence in train_data['Q']:\n",
    "    questions.append(preprocess_sentence(sentence))\n",
    "                     \n",
    "for sentence in train_data['A']:\n",
    "    answers.append(preprocess_sentence(sentence))"
   ]
  },
  {
   "cell_type": "code",
   "execution_count": 8,
   "id": "6a6b1690-4a5e-462c-ac05-f638b95b71b2",
   "metadata": {},
   "outputs": [
    {
     "name": "stdout",
     "output_type": "stream",
     "text": [
      "['시 땡 !', '지망 학교 떨어졌어', '박 일 놀러가고 싶다', '박 일 정도 놀러가고 싶다', 'PPL 심하네']\n",
      "['하루가 또 가네요 .', '위로해 드립니다 .', '여행은 언제나 좋죠 .', '여행은 언제나 좋죠 .', '눈살이 찌푸려지죠 .']\n"
     ]
    }
   ],
   "source": [
    "print(questions[:5])\n",
    "print(answers[:5])"
   ]
  },
  {
   "cell_type": "markdown",
   "id": "f1d6a317-eae7-466e-972e-ca8e0d17fcdd",
   "metadata": {},
   "source": [
    "# 단어장 만들기"
   ]
  },
  {
   "cell_type": "markdown",
   "id": "cdaafd66-ead4-479c-ac43-42adca56165d",
   "metadata": {},
   "source": [
    "## SubwordTextEncoder 사용하기"
   ]
  },
  {
   "cell_type": "code",
   "execution_count": 9,
   "id": "2f385e40-d81e-4425-bd01-126af051c101",
   "metadata": {},
   "outputs": [],
   "source": [
    "import tensorflow_datasets as tfds\n",
    "tokenizer = tfds.deprecated.text.SubwordTextEncoder.build_from_corpus(questions + answers, target_vocab_size=2**13)"
   ]
  },
  {
   "cell_type": "code",
   "execution_count": 10,
   "id": "bf1ccc90-ddcd-4d0d-8a70-0d4316daf887",
   "metadata": {},
   "outputs": [
    {
     "name": "stdout",
     "output_type": "stream",
     "text": [
      "START_TOKEN의 번호 : [8138]\n",
      "END_TOKEN의 번호 : [8139]\n"
     ]
    }
   ],
   "source": [
    "START_TOKEN, END_TOKEN = [tokenizer.vocab_size], [tokenizer.vocab_size + 1]\n",
    "print('START_TOKEN의 번호 :' ,[tokenizer.vocab_size])\n",
    "print('END_TOKEN의 번호 :' ,[tokenizer.vocab_size + 1])"
   ]
  },
  {
   "cell_type": "code",
   "execution_count": 11,
   "id": "4b06d16c-3fa1-448c-a1dd-eef31c56357e",
   "metadata": {},
   "outputs": [
    {
     "name": "stdout",
     "output_type": "stream",
     "text": [
      "8140\n"
     ]
    }
   ],
   "source": [
    "VOCAB_SIZE = tokenizer.vocab_size + 2\n",
    "print(VOCAB_SIZE)"
   ]
  },
  {
   "cell_type": "code",
   "execution_count": 12,
   "id": "266bf234-c459-41ae-80c6-8d0b9d09ca14",
   "metadata": {},
   "outputs": [],
   "source": [
    "MAX_LENGTH = 40"
   ]
  },
  {
   "cell_type": "code",
   "execution_count": 13,
   "id": "4e4db37a-307c-441b-8453-fcaf237d46a6",
   "metadata": {},
   "outputs": [],
   "source": [
    "def tokenize_and_filter(inputs, outputs):\n",
    "  tokenized_inputs, tokenized_outputs = [], []\n",
    "  \n",
    "  for (sentence1, sentence2) in zip(inputs, outputs):\n",
    "    # 정수 인코딩 과정에서 시작 토큰과 종료 토큰을 추가\n",
    "    sentence1 = START_TOKEN + tokenizer.encode(sentence1) + END_TOKEN\n",
    "    sentence2 = START_TOKEN + tokenizer.encode(sentence2) + END_TOKEN\n",
    "\n",
    "    # 최대 길이 이하인 경우에만 데이터셋으로 허용\n",
    "    if len(sentence1) <= MAX_LENGTH and len(sentence2) <= MAX_LENGTH:\n",
    "      tokenized_inputs.append(sentence1)\n",
    "      tokenized_outputs.append(sentence2)\n",
    "  \n",
    "  # 최대 길이 40으로 모든 데이터셋을 패딩\n",
    "  tokenized_inputs = tf.keras.preprocessing.sequence.pad_sequences(\n",
    "      tokenized_inputs, maxlen=MAX_LENGTH, padding='post')\n",
    "  tokenized_outputs = tf.keras.preprocessing.sequence.pad_sequences(\n",
    "      tokenized_outputs, maxlen=MAX_LENGTH, padding='post')\n",
    "  \n",
    "  return tokenized_inputs, tokenized_outputs"
   ]
  },
  {
   "cell_type": "code",
   "execution_count": 14,
   "id": "427cb54a-1010-4aaa-8b2e-e4a94ff15e17",
   "metadata": {},
   "outputs": [
    {
     "name": "stdout",
     "output_type": "stream",
     "text": [
      "단어장의 크기 : 8140\n",
      "필터링 후의 질문 샘플 개수: 11823\n",
      "필터링 후의 답변 샘플 개수: 11823\n"
     ]
    }
   ],
   "source": [
    "questions, answers = tokenize_and_filter(questions, answers)\n",
    "print('단어장의 크기 :',(VOCAB_SIZE))\n",
    "print('필터링 후의 질문 샘플 개수: {}'.format(len(questions)))\n",
    "print('필터링 후의 답변 샘플 개수: {}'.format(len(answers)))"
   ]
  },
  {
   "cell_type": "code",
   "execution_count": 15,
   "id": "a04969bc-5313-4b66-ac7c-ff4ffc931624",
   "metadata": {},
   "outputs": [
    {
     "name": "stderr",
     "output_type": "stream",
     "text": [
      "2024-08-23 16:43:00.353171: I tensorflow/compiler/xla/stream_executor/cuda/cuda_gpu_executor.cc:995] successful NUMA node read from SysFS had negative value (-1), but there must be at least one NUMA node, so returning NUMA node zero. See more at https://github.com/torvalds/linux/blob/v6.0/Documentation/ABI/testing/sysfs-bus-pci#L344-L355\n",
      "2024-08-23 16:43:00.381216: I tensorflow/compiler/xla/stream_executor/cuda/cuda_gpu_executor.cc:995] successful NUMA node read from SysFS had negative value (-1), but there must be at least one NUMA node, so returning NUMA node zero. See more at https://github.com/torvalds/linux/blob/v6.0/Documentation/ABI/testing/sysfs-bus-pci#L344-L355\n",
      "2024-08-23 16:43:00.381449: I tensorflow/compiler/xla/stream_executor/cuda/cuda_gpu_executor.cc:995] successful NUMA node read from SysFS had negative value (-1), but there must be at least one NUMA node, so returning NUMA node zero. See more at https://github.com/torvalds/linux/blob/v6.0/Documentation/ABI/testing/sysfs-bus-pci#L344-L355\n",
      "2024-08-23 16:43:00.383280: I tensorflow/compiler/xla/stream_executor/cuda/cuda_gpu_executor.cc:995] successful NUMA node read from SysFS had negative value (-1), but there must be at least one NUMA node, so returning NUMA node zero. See more at https://github.com/torvalds/linux/blob/v6.0/Documentation/ABI/testing/sysfs-bus-pci#L344-L355\n",
      "2024-08-23 16:43:00.383555: I tensorflow/compiler/xla/stream_executor/cuda/cuda_gpu_executor.cc:995] successful NUMA node read from SysFS had negative value (-1), but there must be at least one NUMA node, so returning NUMA node zero. See more at https://github.com/torvalds/linux/blob/v6.0/Documentation/ABI/testing/sysfs-bus-pci#L344-L355\n",
      "2024-08-23 16:43:00.383738: I tensorflow/compiler/xla/stream_executor/cuda/cuda_gpu_executor.cc:995] successful NUMA node read from SysFS had negative value (-1), but there must be at least one NUMA node, so returning NUMA node zero. See more at https://github.com/torvalds/linux/blob/v6.0/Documentation/ABI/testing/sysfs-bus-pci#L344-L355\n",
      "2024-08-23 16:43:00.453464: I tensorflow/compiler/xla/stream_executor/cuda/cuda_gpu_executor.cc:995] successful NUMA node read from SysFS had negative value (-1), but there must be at least one NUMA node, so returning NUMA node zero. See more at https://github.com/torvalds/linux/blob/v6.0/Documentation/ABI/testing/sysfs-bus-pci#L344-L355\n",
      "2024-08-23 16:43:00.453695: I tensorflow/compiler/xla/stream_executor/cuda/cuda_gpu_executor.cc:995] successful NUMA node read from SysFS had negative value (-1), but there must be at least one NUMA node, so returning NUMA node zero. See more at https://github.com/torvalds/linux/blob/v6.0/Documentation/ABI/testing/sysfs-bus-pci#L344-L355\n",
      "2024-08-23 16:43:00.453890: I tensorflow/compiler/xla/stream_executor/cuda/cuda_gpu_executor.cc:995] successful NUMA node read from SysFS had negative value (-1), but there must be at least one NUMA node, so returning NUMA node zero. See more at https://github.com/torvalds/linux/blob/v6.0/Documentation/ABI/testing/sysfs-bus-pci#L344-L355\n",
      "2024-08-23 16:43:00.454052: I tensorflow/core/common_runtime/gpu/gpu_device.cc:1639] Created device /job:localhost/replica:0/task:0/device:GPU:0 with 5977 MB memory:  -> device: 0, name: NVIDIA GeForce RTX 2080, pci bus id: 0000:08:00.0, compute capability: 7.5\n"
     ]
    }
   ],
   "source": [
    "# 내 GPU 메모리로는 batchsize 64가 실행안돼서 32로 낮춤\n",
    "BATCH_SIZE = 32\n",
    "BUFFER_SIZE = 20000\n",
    "\n",
    "# 디코더는 이전의 target을 다음의 input으로 사용합니다.\n",
    "# 이에 따라 outputs에서는 START_TOKEN을 제거하겠습니다.\n",
    "dataset = tf.data.Dataset.from_tensor_slices((\n",
    "    {\n",
    "        'inputs': questions,\n",
    "        'dec_inputs': answers[:, :-1]  # 마지막 패딩토큰 제거(길이 39가 됨)\n",
    "    },\n",
    "    {\n",
    "        'outputs': answers[:, 1:]     \n",
    "    }, \n",
    "))\n",
    "\n",
    "dataset = dataset.cache()\n",
    "dataset = dataset.shuffle(BUFFER_SIZE)\n",
    "dataset = dataset.batch(BATCH_SIZE)\n",
    "dataset = dataset.prefetch(tf.data.experimental.AUTOTUNE)"
   ]
  },
  {
   "cell_type": "markdown",
   "id": "d9f44ca2-aff6-4003-809f-a7da15adda41",
   "metadata": {},
   "source": [
    "# 트랜스포머 모델 구현"
   ]
  },
  {
   "cell_type": "code",
   "execution_count": 16,
   "id": "acb10d14-6ccc-494e-916d-93ca3954cee9",
   "metadata": {},
   "outputs": [],
   "source": [
    "# 포지셔널 인코딩 레이어 직접 출력해서 확인해보기\n",
    "class PositionalEncoding(tf.keras.layers.Layer):\n",
    "\n",
    "  # position : 문장의 길이, d_model : 임베딩 차원\n",
    "  def __init__(self, position, d_model):\n",
    "    super(PositionalEncoding, self).__init__()\n",
    "    self.pos_encoding = self.positional_encoding(position, d_model)\n",
    "\n",
    "  def get_angles(self, position, i, d_model):\n",
    "    angles = 1 / tf.pow(10000, (2 * (i // 2)) / tf.cast(d_model, tf.float32))\n",
    "    return position * angles\n",
    "\n",
    "  def positional_encoding(self, position, d_model):\n",
    "    # 각도 배열 생성\n",
    "    angle_rads = self.get_angles(\n",
    "        position=tf.range(position, dtype=tf.float32)[:, tf.newaxis],\n",
    "        i=tf.range(d_model, dtype=tf.float32)[tf.newaxis, :],\n",
    "        d_model=d_model)\n",
    "\n",
    "    # 배열의 짝수 인덱스에는 sin 함수 적용\n",
    "    sines = tf.math.sin(angle_rads[:, 0::2])\n",
    "    # 배열의 홀수 인덱스에는 cosine 함수 적용\n",
    "    cosines = tf.math.cos(angle_rads[:, 1::2])\n",
    "\n",
    "    # sin과 cosine이 교차되도록 재배열\n",
    "    pos_encoding = tf.stack([sines, cosines], axis=0)\n",
    "    pos_encoding = tf.transpose(pos_encoding,[1, 2, 0]) \n",
    "    pos_encoding = tf.reshape(pos_encoding, [position, d_model])\n",
    "\n",
    "    pos_encoding = pos_encoding[tf.newaxis, ...]\n",
    "    return tf.cast(pos_encoding, tf.float32)\n",
    "\n",
    "  def call(self, inputs):\n",
    "    return inputs + self.pos_encoding[:, :tf.shape(inputs)[1], :]"
   ]
  },
  {
   "cell_type": "code",
   "execution_count": 17,
   "id": "5b07c6b8-f020-4804-8c3f-c6c14f271a88",
   "metadata": {},
   "outputs": [],
   "source": [
    "# scaled dot product attention 구현하기  \n",
    "def scaled_dot_product_attention(query, key, value, mask):\n",
    "  # query 크기 : (batch_size, num_heads, query의 문장 길이, d_model/num_heads)\n",
    "  # key 크기 : (batch_size, num_heads, key의 문장 길이, d_model/num_heads)\n",
    "  # value 크기 : (batch_size, num_heads, value의 문장 길이, d_model/num_heads)\n",
    "  # padding_mask : (batch_size, 1, 1, key의 문장 길이)\n",
    "\n",
    "  # Q와 K의 곱. 어텐션 스코어 행렬.\n",
    "  matmul_qk = tf.matmul(query, key, transpose_b=True)\n",
    "\n",
    "  # 스케일링\n",
    "  # dk의 루트값으로 나눠준다.``\n",
    "  depth = tf.cast(tf.shape(key)[-1], tf.float32)\n",
    "  logits = matmul_qk / tf.math.sqrt(depth)\n",
    "\n",
    "  # 마스킹. 어텐션 스코어 행렬의 마스킹 할 위치에 매우 작은 음수값을 넣는다.\n",
    "  # 매우 작은 값이므로 소프트맥스 함수를 지나면 행렬의 해당 위치의 값은 0이 된다.\n",
    "  if mask is not None:\n",
    "    logits += (mask * -1e9)\n",
    "\n",
    "  # 소프트맥스 함수는 마지막 차원인 key의 문장 길이 방향으로 수행된다.\n",
    "  # attention weight : (batch_size, num_heads, query의 문장 길이, key의 문장 길이)\n",
    "  attention_weights = tf.nn.softmax(logits, axis=-1)\n",
    "\n",
    "  # output : (batch_size, num_heads, query의 문장 길이, d_model/num_heads)\n",
    "  output = tf.matmul(attention_weights, value)\n",
    "\n",
    "  return output, attention_weights"
   ]
  },
  {
   "cell_type": "code",
   "execution_count": 18,
   "id": "c4f29dcc-2c3c-4aa5-a4e5-3bebb4e25e2e",
   "metadata": {},
   "outputs": [],
   "source": [
    "class MultiHeadAttention(tf.keras.layers.Layer):\n",
    "\n",
    "  def __init__(self, d_model, num_heads, name=\"multi_head_attention\"):\n",
    "    super(MultiHeadAttention, self).__init__(name=name)\n",
    "    self.num_heads = num_heads\n",
    "    self.d_model = d_model\n",
    "\n",
    "    assert d_model % self.num_heads == 0\n",
    "\n",
    "    # d_model을 num_heads로 나눈 값.\n",
    "    # 논문 기준 : 64\n",
    "    self.depth = d_model // self.num_heads\n",
    "\n",
    "    # WQ, WK, WV에 해당하는 밀집층 정의\n",
    "    self.query_dense = tf.keras.layers.Dense(units=d_model)\n",
    "    self.key_dense = tf.keras.layers.Dense(units=d_model)\n",
    "    self.value_dense = tf.keras.layers.Dense(units=d_model)\n",
    "\n",
    "    # WO에 해당하는 밀집층 정의\n",
    "    self.dense = tf.keras.layers.Dense(units=d_model)\n",
    "\n",
    "  # num_heads 개수만큼 q, k, v를 split하는 함수\n",
    "  def split_heads(self, inputs, batch_size):\n",
    "    inputs = tf.reshape(\n",
    "        inputs, shape=(batch_size, -1, self.num_heads, self.depth))\n",
    "    return tf.transpose(inputs, perm=[0, 2, 1, 3])\n",
    "\n",
    "  def call(self, inputs):\n",
    "    query, key, value, mask = inputs['query'], inputs['key'], inputs[\n",
    "        'value'], inputs['mask']\n",
    "    batch_size = tf.shape(query)[0]\n",
    "\n",
    "    # 1. WQ, WK, WV에 해당하는 밀집층 지나기\n",
    "    # q : (batch_size, query의 문장 길이, d_model)\n",
    "    # k : (batch_size, key의 문장 길이, d_model)\n",
    "    # v : (batch_size, value의 문장 길이, d_model)\n",
    "    # 참고) 인코더(k, v)-디코더(q) 어텐션에서는 query 길이와 key, value의 길이는 다를 수 있다.\n",
    "    query = self.query_dense(query)\n",
    "    key = self.key_dense(key)\n",
    "    value = self.value_dense(value)\n",
    "\n",
    "    # 2. 헤드 나누기\n",
    "    # q : (batch_size, num_heads, query의 문장 길이, d_model/num_heads)\n",
    "    # k : (batch_size, num_heads, key의 문장 길이, d_model/num_heads)\n",
    "    # v : (batch_size, num_heads, value의 문장 길이, d_model/num_heads)\n",
    "    query = self.split_heads(query, batch_size)\n",
    "    key = self.split_heads(key, batch_size)\n",
    "    value = self.split_heads(value, batch_size)\n",
    "\n",
    "    # 3. 스케일드 닷 프로덕트 어텐션. 앞서 구현한 함수 사용.\n",
    "    # (batch_size, num_heads, query의 문장 길이, d_model/num_heads)\n",
    "    scaled_attention, _ = scaled_dot_product_attention(query, key, value, mask)\n",
    "    # (batch_size, query의 문장 길이, num_heads, d_model/num_heads)\n",
    "    scaled_attention = tf.transpose(scaled_attention, perm=[0, 2, 1, 3])\n",
    "\n",
    "    # 4. 헤드 연결(concatenate)하기\n",
    "    # (batch_size, query의 문장 길이, d_model)\n",
    "    concat_attention = tf.reshape(scaled_attention,\n",
    "                                  (batch_size, -1, self.d_model))\n",
    "\n",
    "    # 5. WO에 해당하는 밀집층 지나기\n",
    "    # (batch_size, query의 문장 길이, d_model)\n",
    "    outputs = self.dense(concat_attention)\n",
    "\n",
    "    return outputs\n"
   ]
  },
  {
   "cell_type": "code",
   "execution_count": 19,
   "id": "6080b662-b856-465f-84fe-fa56b27aec93",
   "metadata": {},
   "outputs": [],
   "source": [
    "def create_padding_mask(x):\n",
    "  mask = tf.cast(tf.math.equal(x, 0), tf.float32)\n",
    "  # (batch_size, 1, 1, key의 문장 길이)\n",
    "  return mask[:, tf.newaxis, tf.newaxis, :]"
   ]
  },
  {
   "cell_type": "code",
   "execution_count": 20,
   "id": "42c8a099-add5-418c-8b9a-791306b7e031",
   "metadata": {},
   "outputs": [
    {
     "name": "stdout",
     "output_type": "stream",
     "text": [
      "tf.Tensor(\n",
      "[[[[0. 1. 1. 1. 1.]\n",
      "   [0. 0. 1. 1. 1.]\n",
      "   [0. 0. 0. 1. 1.]\n",
      "   [0. 0. 0. 0. 1.]\n",
      "   [0. 0. 0. 0. 0.]]]], shape=(1, 1, 5, 5), dtype=float32)\n",
      "tf.Tensor(\n",
      "[[[[1. 1. 1. 1. 1.]\n",
      "   [1. 0. 1. 1. 1.]\n",
      "   [1. 0. 0. 1. 1.]\n",
      "   [1. 0. 0. 0. 1.]\n",
      "   [1. 0. 0. 0. 0.]]]], shape=(1, 1, 5, 5), dtype=float32)\n"
     ]
    }
   ],
   "source": [
    "def create_look_ahead_mask(x):\n",
    "  seq_len = tf.shape(x)[1]\n",
    "  # 가려버릴 값을 1로 설정\n",
    "  look_ahead_mask = 1 - tf.linalg.band_part(tf.ones((seq_len, seq_len)), -1, 0)\n",
    "  # 내부적으로 패딩마스크 함수도 포함\n",
    "  padding_mask = create_padding_mask(x)\n",
    "  return tf.maximum(look_ahead_mask, padding_mask)\n",
    "\n",
    "print(create_look_ahead_mask(tf.constant([[1, 2, 3, 4, 5]])))\n",
    "print(create_look_ahead_mask(tf.constant([[0, 5, 1, 5, 5]])))"
   ]
  },
  {
   "cell_type": "code",
   "execution_count": 21,
   "id": "dff81b8f-6e12-4a60-813e-78f44c7fb346",
   "metadata": {},
   "outputs": [],
   "source": [
    "# 인코더 하나의 레이어를 함수로 구현.\n",
    "# 이 하나의 레이어 안에는 두 개의 서브 레이어가 존재합니다.\n",
    "def encoder_layer(units, d_model, num_heads, dropout, name=\"encoder_layer\"):\n",
    "  inputs = tf.keras.Input(shape=(None, d_model), name=\"inputs\")\n",
    "\n",
    "  # 패딩 마스크 사용\n",
    "  padding_mask = tf.keras.Input(shape=(1, 1, None), name=\"padding_mask\")\n",
    "\n",
    "  # 1. 멀티 헤드 어텐션 수행 (셀프 어텐션)\n",
    "  attention = MultiHeadAttention(\n",
    "      d_model, num_heads, name=\"attention\")({\n",
    "          'query': inputs,\n",
    "          'key': inputs,\n",
    "          'value': inputs,\n",
    "          'mask': padding_mask\n",
    "      })\n",
    "\n",
    "  # Dropout과 Layer Normalization 수행\n",
    "  attention = tf.keras.layers.Dropout(rate=dropout)(attention)\n",
    "  attention = tf.keras.layers.LayerNormalization(\n",
    "      epsilon=1e-6)(inputs + attention)\n",
    "\n",
    "  # 2. Feed-Forward Network : 2개의 완전연결층\n",
    "  outputs = tf.keras.layers.Dense(units=units, activation='relu')(attention)\n",
    "  outputs = tf.keras.layers.Dense(units=d_model)(outputs)\n",
    "\n",
    "  # Dropout과 Layer Normalization 수행\n",
    "  outputs = tf.keras.layers.Dropout(rate=dropout)(outputs)\n",
    "  outputs = tf.keras.layers.LayerNormalization(\n",
    "      epsilon=1e-6)(attention + outputs)\n",
    "\n",
    "  return tf.keras.Model(\n",
    "      inputs=[inputs, padding_mask], outputs=outputs, name=name)"
   ]
  },
  {
   "cell_type": "code",
   "execution_count": 22,
   "id": "e90761c0-4773-489b-8576-4aa45c29b215",
   "metadata": {},
   "outputs": [],
   "source": [
    "def encoder(vocab_size,\n",
    "            num_layers,\n",
    "            units,\n",
    "            d_model,\n",
    "            num_heads,\n",
    "            dropout,\n",
    "            name=\"encoder\"):\n",
    "  inputs = tf.keras.Input(shape=(None,), name=\"inputs\")\n",
    "\n",
    "  # 패딩 마스크 사용\n",
    "  padding_mask = tf.keras.Input(shape=(1, 1, None), name=\"padding_mask\")\n",
    "\n",
    "  # 임베딩 레이어\n",
    "  embeddings = tf.keras.layers.Embedding(vocab_size, d_model)(inputs)\n",
    "  embeddings *= tf.math.sqrt(tf.cast(d_model, tf.float32))\n",
    "\n",
    "  # 포지셔널 인코딩\n",
    "  embeddings = PositionalEncoding(vocab_size, d_model)(embeddings)\n",
    "\n",
    "  outputs = tf.keras.layers.Dropout(rate=dropout)(embeddings)\n",
    "\n",
    "  # num_layers만큼 쌓아올린 인코더의 층.\n",
    "  for i in range(num_layers):\n",
    "    outputs = encoder_layer(\n",
    "        units=units,\n",
    "        d_model=d_model,\n",
    "        num_heads=num_heads,\n",
    "        dropout=dropout,\n",
    "        name=\"encoder_layer_{}\".format(i),\n",
    "    )([outputs, padding_mask])\n",
    "\n",
    "  return tf.keras.Model(\n",
    "      inputs=[inputs, padding_mask], outputs=outputs, name=name)"
   ]
  },
  {
   "cell_type": "code",
   "execution_count": 23,
   "id": "768a2593-5aaf-4ee4-82d3-555239edffb6",
   "metadata": {},
   "outputs": [],
   "source": [
    "# 디코더의 첫번째 서브층(sublayer)에서 미래 토큰을 Mask하는 함수\n",
    "def create_look_ahead_mask(x):\n",
    "  seq_len = tf.shape(x)[1]\n",
    "  look_ahead_mask = 1 - tf.linalg.band_part(tf.ones((seq_len, seq_len)), -1, 0)\n",
    "  padding_mask = create_padding_mask(x) # 패딩 마스크도 포함\n",
    "  return tf.maximum(look_ahead_mask, padding_mask)"
   ]
  },
  {
   "cell_type": "code",
   "execution_count": 24,
   "id": "64d21906-fdfb-42f2-845a-2422df0bf94a",
   "metadata": {},
   "outputs": [],
   "source": [
    "# 디코더 하나의 레이어를 함수로 구현.\n",
    "# 이 하나의 레이어 안에는 세 개의 서브 레이어가 존재합니다.\n",
    "def decoder_layer(units, d_model, num_heads, dropout, name=\"decoder_layer\"):\n",
    "  inputs = tf.keras.Input(shape=(None, d_model), name=\"inputs\")\n",
    "  enc_outputs = tf.keras.Input(shape=(None, d_model), name=\"encoder_outputs\")\n",
    "  look_ahead_mask = tf.keras.Input(\n",
    "      shape=(1, None, None), name=\"look_ahead_mask\")\n",
    "  padding_mask = tf.keras.Input(shape=(1, 1, None), name='padding_mask')\n",
    "\n",
    "  # 1. 멀티 헤드 어텐션 수행 (셀프 어텐션)\n",
    "  attention1 = MultiHeadAttention(\n",
    "      d_model, num_heads, name=\"attention_1\")(inputs={\n",
    "          'query': inputs,\n",
    "          'key': inputs,\n",
    "          'value': inputs,\n",
    "          'mask': look_ahead_mask\n",
    "      })\n",
    "\n",
    "  # LayerNormalization 적용\n",
    "  attention1 = tf.keras.layers.LayerNormalization(\n",
    "      epsilon=1e-6)(attention1 + inputs)\n",
    "\n",
    "  # 2. 마스크드 멀티 헤드 어텐션 수행 (인코더-디코더 어텐션)\n",
    "  attention2 = MultiHeadAttention(\n",
    "      d_model, num_heads, name=\"attention_2\")(inputs={\n",
    "          'query': attention1,  # 디코더의 출력을 query로\n",
    "          'key': enc_outputs,   # 인코더의 출력을 key와 value로\n",
    "          'value': enc_outputs,\n",
    "          'mask': padding_mask\n",
    "      })\n",
    "\n",
    "  # 마스크드 멀티 헤드 어텐션의 결과는\n",
    "  # Dropout과 LayerNormalization이라는 훈련을 돕는 테크닉을 수행\n",
    "  attention2 = tf.keras.layers.Dropout(rate=dropout)(attention2)\n",
    "  attention2 = tf.keras.layers.LayerNormalization(\n",
    "      epsilon=1e-6)(attention2 + attention1)\n",
    "\n",
    "  # 세 번째 서브 레이어 : 2개의 완전연결층\n",
    "  outputs = tf.keras.layers.Dense(units=units, activation='relu')(attention2)\n",
    "  outputs = tf.keras.layers.Dense(units=d_model)(outputs)\n",
    "\n",
    "  # Dropout과 LayerNormalization 적용\n",
    "  outputs = tf.keras.layers.Dropout(rate=dropout)(outputs)\n",
    "  outputs = tf.keras.layers.LayerNormalization(\n",
    "      epsilon=1e-6)(outputs + attention2)\n",
    "\n",
    "  return tf.keras.Model(\n",
    "      inputs=[inputs, enc_outputs, look_ahead_mask, padding_mask],\n",
    "      outputs=outputs,\n",
    "      name=name)"
   ]
  },
  {
   "cell_type": "code",
   "execution_count": 25,
   "id": "fe75cfeb-975c-43b3-b86c-d9cefc79dbab",
   "metadata": {},
   "outputs": [],
   "source": [
    "def decoder(vocab_size,\n",
    "            num_layers,\n",
    "            units,\n",
    "            d_model,\n",
    "            num_heads,\n",
    "            dropout,\n",
    "            name='decoder'):\n",
    "  inputs = tf.keras.Input(shape=(None,), name='inputs')\n",
    "  enc_outputs = tf.keras.Input(shape=(None, d_model), name='encoder_outputs')\n",
    "  look_ahead_mask = tf.keras.Input(\n",
    "      shape=(1, None, None), name='look_ahead_mask')\n",
    "\n",
    "  # 패딩 마스크\n",
    "  padding_mask = tf.keras.Input(shape=(1, 1, None), name='padding_mask')\n",
    "  \n",
    "  # 임베딩 레이어\n",
    "  embeddings = tf.keras.layers.Embedding(vocab_size, d_model)(inputs)\n",
    "  embeddings *= tf.math.sqrt(tf.cast(d_model, tf.float32))\n",
    "\n",
    "  # 포지셔널 인코딩\n",
    "  embeddings = PositionalEncoding(vocab_size, d_model)(embeddings)\n",
    "\n",
    "  # Dropout이라는 훈련을 돕는 테크닉을 수행\n",
    "  outputs = tf.keras.layers.Dropout(rate=dropout)(embeddings)\n",
    "\n",
    "  for i in range(num_layers):\n",
    "    outputs = decoder_layer(\n",
    "        units=units,\n",
    "        d_model=d_model,\n",
    "        num_heads=num_heads,\n",
    "        dropout=dropout,\n",
    "        name='decoder_layer_{}'.format(i),\n",
    "    )(inputs=[outputs, enc_outputs, look_ahead_mask, padding_mask])\n",
    "\n",
    "  return tf.keras.Model(\n",
    "      inputs=[inputs, enc_outputs, look_ahead_mask, padding_mask],\n",
    "      outputs=outputs,\n",
    "      name=name)"
   ]
  },
  {
   "cell_type": "code",
   "execution_count": 26,
   "id": "192ca9b7-b03c-4b7f-88ef-2f0399c21e29",
   "metadata": {},
   "outputs": [],
   "source": [
    "def transformer(vocab_size, num_layers, units,\n",
    "                d_model, num_heads, dropout,\n",
    "                name=\"transformer\"):\n",
    "\n",
    "  # 인코더의 입력\n",
    "  inputs = tf.keras.Input(shape=(None,), name=\"inputs\")\n",
    "\n",
    "  # 디코더의 입력\n",
    "  dec_inputs = tf.keras.Input(shape=(None,), name=\"dec_inputs\")\n",
    "\n",
    "  # 인코더의 패딩 마스크\n",
    "  enc_padding_mask = tf.keras.layers.Lambda(\n",
    "      create_padding_mask, output_shape=(1, 1, None),\n",
    "      name='enc_padding_mask')(inputs)\n",
    "\n",
    "  # 디코더의 룩어헤드 마스크(첫번째 서브층)\n",
    "  look_ahead_mask = tf.keras.layers.Lambda(\n",
    "      create_look_ahead_mask, output_shape=(1, None, None),\n",
    "      name='look_ahead_mask')(dec_inputs)\n",
    "\n",
    "  # 디코더의 패딩 마스크(두번째 서브층)\n",
    "  dec_padding_mask = tf.keras.layers.Lambda(\n",
    "      create_padding_mask, output_shape=(1, 1, None),\n",
    "      name='dec_padding_mask')(inputs)\n",
    "\n",
    "  # 인코더의 출력은 enc_outputs. 디코더로 전달된다.\n",
    "  enc_outputs = encoder(vocab_size=vocab_size, num_layers=num_layers, units=units,\n",
    "      d_model=d_model, num_heads=num_heads, dropout=dropout,\n",
    "  )(inputs=[inputs, enc_padding_mask]) # 인코더의 입력은 입력 문장과 패딩 마스크\n",
    "\n",
    "  # 디코더의 출력은 dec_outputs. 출력층으로 전달된다.\n",
    "  dec_outputs = decoder(vocab_size=vocab_size, num_layers=num_layers, units=units,\n",
    "      d_model=d_model, num_heads=num_heads, dropout=dropout,\n",
    "  )(inputs=[dec_inputs, enc_outputs, look_ahead_mask, dec_padding_mask])\n",
    "\n",
    "  # 다음 단어 예측을 위한 출력층\n",
    "  outputs = tf.keras.layers.Dense(units=vocab_size, name=\"outputs\")(dec_outputs)\n",
    "\n",
    "  return tf.keras.Model(inputs=[inputs, dec_inputs], outputs=outputs, name=name)"
   ]
  },
  {
   "cell_type": "code",
   "execution_count": 27,
   "id": "7bb1637b-d662-44ef-8b25-45198d9f92dd",
   "metadata": {},
   "outputs": [],
   "source": [
    "def loss_function(y_true, y_pred):\n",
    "  y_true = tf.reshape(y_true, shape=(-1, MAX_LENGTH - 1))\n",
    "\n",
    "  loss = tf.keras.losses.SparseCategoricalCrossentropy(\n",
    "      from_logits=True, reduction='none')(y_true, y_pred)\n",
    "\n",
    "  mask = tf.cast(tf.not_equal(y_true, 0), tf.float32)\n",
    "  loss = tf.multiply(loss, mask)\n",
    "\n",
    "  return tf.reduce_mean(loss)"
   ]
  },
  {
   "cell_type": "code",
   "execution_count": 28,
   "id": "5c34c19c-26b4-497f-981e-666a80ae4820",
   "metadata": {},
   "outputs": [],
   "source": [
    "class CustomSchedule(tf.keras.optimizers.schedules.LearningRateSchedule):\n",
    "\n",
    "    def __init__(self, d_model, warmup_steps=4000):\n",
    "        super(CustomSchedule, self).__init__()\n",
    "        self.d_model = d_model\n",
    "        self.d_model = tf.cast(self.d_model, tf.float32)\n",
    "        self.warmup_steps = warmup_steps\n",
    "    \n",
    "    def __call__(self, step):\n",
    "        step = tf.cast(step, tf.float32)\n",
    "        arg1 = tf.math.rsqrt(step)\n",
    "        arg2 = step * (self.warmup_steps**-1.5)\n",
    "        \n",
    "        return tf.math.rsqrt(self.d_model) * tf.math.minimum(arg1, arg2)\n",
    "          \n",
    "    def get_config(self):\n",
    "        return {\n",
    "            'd_model': self.d_model.numpy(),  # 텐서를 숫자로 변환하여 저장\n",
    "            'warmup_steps': self.warmup_steps\n",
    "        }"
   ]
  },
  {
   "cell_type": "code",
   "execution_count": 30,
   "id": "f1cc75f5-5cfa-47df-8ee9-e0f1ec08b70f",
   "metadata": {},
   "outputs": [
    {
     "name": "stdout",
     "output_type": "stream",
     "text": [
      "Model: \"transformer\"\n",
      "__________________________________________________________________________________________________\n",
      " Layer (type)                Output Shape                 Param #   Connected to                  \n",
      "==================================================================================================\n",
      " inputs (InputLayer)         [(None, None)]               0         []                            \n",
      "                                                                                                  \n",
      " dec_inputs (InputLayer)     [(None, None)]               0         []                            \n",
      "                                                                                                  \n",
      " enc_padding_mask (Lambda)   (None, 1, 1, None)           0         ['inputs[0][0]']              \n",
      "                                                                                                  \n",
      " encoder (Functional)        (None, None, 256)            2875392   ['inputs[0][0]',              \n",
      "                                                                     'enc_padding_mask[0][0]']    \n",
      "                                                                                                  \n",
      " look_ahead_mask (Lambda)    (None, 1, None, None)        0         ['dec_inputs[0][0]']          \n",
      "                                                                                                  \n",
      " dec_padding_mask (Lambda)   (None, 1, 1, None)           0         ['inputs[0][0]']              \n",
      "                                                                                                  \n",
      " decoder (Functional)        (None, None, 256)            3402752   ['dec_inputs[0][0]',          \n",
      "                                                                     'encoder[0][0]',             \n",
      "                                                                     'look_ahead_mask[0][0]',     \n",
      "                                                                     'dec_padding_mask[0][0]']    \n",
      "                                                                                                  \n",
      " outputs (Dense)             (None, None, 8140)           2091980   ['decoder[0][0]']             \n",
      "                                                                                                  \n",
      "==================================================================================================\n",
      "Total params: 8370124 (31.93 MB)\n",
      "Trainable params: 8370124 (31.93 MB)\n",
      "Non-trainable params: 0 (0.00 Byte)\n",
      "__________________________________________________________________________________________________\n"
     ]
    }
   ],
   "source": [
    "tf.keras.backend.clear_session()\n",
    "\n",
    "# 하이퍼파라미터\n",
    "NUM_LAYERS = 2 # 인코더와 디코더의 층의 개수\n",
    "D_MODEL = 256 # 인코더와 디코더 내부의 입, 출력의 고정 차원\n",
    "NUM_HEADS = 4 # 멀티 헤드 어텐션에서의 헤드 수 \n",
    "UNITS = 256 # 피드 포워드 신경망의 은닉층의 크기\n",
    "DROPOUT = 0.1 # 드롭아웃의 비율\n",
    "\n",
    "model = transformer(\n",
    "    vocab_size=VOCAB_SIZE,\n",
    "    num_layers=NUM_LAYERS,\n",
    "    units=UNITS,\n",
    "    d_model=D_MODEL,\n",
    "    num_heads=NUM_HEADS,\n",
    "    dropout=DROPOUT)\n",
    "\n",
    "model.summary()"
   ]
  },
  {
   "cell_type": "code",
   "execution_count": 31,
   "id": "7bf951fc-78ba-49ae-bc4e-806a2d26f71e",
   "metadata": {},
   "outputs": [],
   "source": [
    "learning_rate = CustomSchedule(D_MODEL)\n",
    "\n",
    "optimizer = tf.keras.optimizers.Adam(\n",
    "    learning_rate, beta_1=0.9, beta_2=0.98, epsilon=1e-9)\n",
    "\n",
    "def accuracy(y_true, y_pred):\n",
    "  # 레이블의 크기는 (batch_size, MAX_LENGTH - 1)\n",
    "  y_true = tf.reshape(y_true, shape=(-1, MAX_LENGTH - 1))\n",
    "  return tf.keras.metrics.sparse_categorical_accuracy(y_true, y_pred)\n",
    "\n",
    "model.compile(optimizer=optimizer, loss=loss_function, metrics=[accuracy])"
   ]
  },
  {
   "cell_type": "code",
   "execution_count": 32,
   "id": "78bd51c5-c8f3-4edf-b300-98cdf8febefc",
   "metadata": {},
   "outputs": [
    {
     "name": "stdout",
     "output_type": "stream",
     "text": [
      "Epoch 1/50\n"
     ]
    },
    {
     "name": "stderr",
     "output_type": "stream",
     "text": [
      "2024-08-23 16:43:24.684758: I tensorflow/compiler/xla/service/service.cc:168] XLA service 0x749ebe379940 initialized for platform CUDA (this does not guarantee that XLA will be used). Devices:\n",
      "2024-08-23 16:43:24.684805: I tensorflow/compiler/xla/service/service.cc:176]   StreamExecutor device (0): NVIDIA GeForce RTX 2080, Compute Capability 7.5\n",
      "2024-08-23 16:43:24.688615: I tensorflow/compiler/mlir/tensorflow/utils/dump_mlir_util.cc:255] disabling MLIR crash reproducer, set env var `MLIR_CRASH_REPRODUCER_DIRECTORY` to enable.\n",
      "2024-08-23 16:43:24.700908: I tensorflow/compiler/xla/stream_executor/cuda/cuda_dnn.cc:432] Loaded cuDNN version 8600\n",
      "2024-08-23 16:43:24.804523: I ./tensorflow/compiler/jit/device_compiler.h:186] Compiled cluster using XLA!  This line is logged at most once for the lifetime of the process.\n"
     ]
    },
    {
     "name": "stdout",
     "output_type": "stream",
     "text": [
      "370/370 [==============================] - 39s 74ms/step - loss: 1.3240 - accuracy: 0.0388\n",
      "Epoch 2/50\n",
      "370/370 [==============================] - 14s 37ms/step - loss: 0.9968 - accuracy: 0.0512\n",
      "Epoch 3/50\n",
      "370/370 [==============================] - 13s 35ms/step - loss: 0.9022 - accuracy: 0.0558\n",
      "Epoch 4/50\n",
      "370/370 [==============================] - 13s 35ms/step - loss: 0.8172 - accuracy: 0.0614\n",
      "Epoch 5/50\n",
      "370/370 [==============================] - 13s 35ms/step - loss: 0.7234 - accuracy: 0.0702\n",
      "Epoch 6/50\n",
      "370/370 [==============================] - 12s 32ms/step - loss: 0.6209 - accuracy: 0.0808\n",
      "Epoch 7/50\n",
      "370/370 [==============================] - 12s 32ms/step - loss: 0.5178 - accuracy: 0.0919\n",
      "Epoch 8/50\n",
      "370/370 [==============================] - 13s 35ms/step - loss: 0.4186 - accuracy: 0.1031\n",
      "Epoch 9/50\n",
      "370/370 [==============================] - 13s 35ms/step - loss: 0.3325 - accuracy: 0.1144\n",
      "Epoch 10/50\n",
      "370/370 [==============================] - 13s 34ms/step - loss: 0.2611 - accuracy: 0.1243\n",
      "Epoch 11/50\n",
      "370/370 [==============================] - 12s 32ms/step - loss: 0.2086 - accuracy: 0.1322\n",
      "Epoch 12/50\n",
      "370/370 [==============================] - 12s 33ms/step - loss: 0.1636 - accuracy: 0.1399\n",
      "Epoch 13/50\n",
      "370/370 [==============================] - 12s 33ms/step - loss: 0.1218 - accuracy: 0.1481\n",
      "Epoch 14/50\n",
      "370/370 [==============================] - 12s 33ms/step - loss: 0.0956 - accuracy: 0.1534\n",
      "Epoch 15/50\n",
      "370/370 [==============================] - 12s 32ms/step - loss: 0.0767 - accuracy: 0.1574\n",
      "Epoch 16/50\n",
      "370/370 [==============================] - 12s 32ms/step - loss: 0.0628 - accuracy: 0.1605\n",
      "Epoch 17/50\n",
      "370/370 [==============================] - 12s 33ms/step - loss: 0.0523 - accuracy: 0.1629\n",
      "Epoch 18/50\n",
      "370/370 [==============================] - 12s 33ms/step - loss: 0.0446 - accuracy: 0.1649\n",
      "Epoch 19/50\n",
      "370/370 [==============================] - 12s 34ms/step - loss: 0.0395 - accuracy: 0.1660\n",
      "Epoch 20/50\n",
      "370/370 [==============================] - 12s 32ms/step - loss: 0.0365 - accuracy: 0.1669\n",
      "Epoch 21/50\n",
      "370/370 [==============================] - 12s 33ms/step - loss: 0.0326 - accuracy: 0.1678\n",
      "Epoch 22/50\n",
      "370/370 [==============================] - 12s 32ms/step - loss: 0.0290 - accuracy: 0.1688\n",
      "Epoch 23/50\n",
      "370/370 [==============================] - 13s 34ms/step - loss: 0.0267 - accuracy: 0.1692\n",
      "Epoch 24/50\n",
      "370/370 [==============================] - 12s 33ms/step - loss: 0.0247 - accuracy: 0.1697\n",
      "Epoch 25/50\n",
      "370/370 [==============================] - 12s 33ms/step - loss: 0.0234 - accuracy: 0.1702\n",
      "Epoch 26/50\n",
      "370/370 [==============================] - 12s 33ms/step - loss: 0.0220 - accuracy: 0.1706\n",
      "Epoch 27/50\n",
      "370/370 [==============================] - 12s 33ms/step - loss: 0.0204 - accuracy: 0.1709\n",
      "Epoch 28/50\n",
      "370/370 [==============================] - 12s 33ms/step - loss: 0.0196 - accuracy: 0.1711\n",
      "Epoch 29/50\n",
      "370/370 [==============================] - 12s 32ms/step - loss: 0.0182 - accuracy: 0.1714\n",
      "Epoch 30/50\n",
      "370/370 [==============================] - 12s 33ms/step - loss: 0.0172 - accuracy: 0.1718\n",
      "Epoch 31/50\n",
      "370/370 [==============================] - 12s 32ms/step - loss: 0.0164 - accuracy: 0.1720\n",
      "Epoch 32/50\n",
      "370/370 [==============================] - 12s 33ms/step - loss: 0.0166 - accuracy: 0.1719\n",
      "Epoch 33/50\n",
      "370/370 [==============================] - 12s 32ms/step - loss: 0.0156 - accuracy: 0.1722\n",
      "Epoch 34/50\n",
      "370/370 [==============================] - 12s 32ms/step - loss: 0.0148 - accuracy: 0.1723\n",
      "Epoch 35/50\n",
      "370/370 [==============================] - 12s 31ms/step - loss: 0.0141 - accuracy: 0.1726\n",
      "Epoch 36/50\n",
      "370/370 [==============================] - 12s 32ms/step - loss: 0.0133 - accuracy: 0.1728\n",
      "Epoch 37/50\n",
      "370/370 [==============================] - 12s 32ms/step - loss: 0.0129 - accuracy: 0.1728\n",
      "Epoch 38/50\n",
      "370/370 [==============================] - 12s 33ms/step - loss: 0.0133 - accuracy: 0.1728\n",
      "Epoch 39/50\n",
      "370/370 [==============================] - 12s 33ms/step - loss: 0.0131 - accuracy: 0.1729\n",
      "Epoch 40/50\n",
      "370/370 [==============================] - 12s 32ms/step - loss: 0.0125 - accuracy: 0.1730\n",
      "Epoch 41/50\n",
      "370/370 [==============================] - 12s 33ms/step - loss: 0.0123 - accuracy: 0.1731\n",
      "Epoch 42/50\n",
      "370/370 [==============================] - 12s 34ms/step - loss: 0.0118 - accuracy: 0.1731\n",
      "Epoch 43/50\n",
      "370/370 [==============================] - 12s 33ms/step - loss: 0.0116 - accuracy: 0.1732\n",
      "Epoch 44/50\n",
      "370/370 [==============================] - 13s 34ms/step - loss: 0.0119 - accuracy: 0.1732\n",
      "Epoch 45/50\n",
      "370/370 [==============================] - 12s 32ms/step - loss: 0.0109 - accuracy: 0.1734\n",
      "Epoch 46/50\n",
      "370/370 [==============================] - 12s 33ms/step - loss: 0.0108 - accuracy: 0.1733\n",
      "Epoch 47/50\n",
      "370/370 [==============================] - 12s 33ms/step - loss: 0.0107 - accuracy: 0.1735\n",
      "Epoch 48/50\n",
      "370/370 [==============================] - 12s 33ms/step - loss: 0.0105 - accuracy: 0.1735\n",
      "Epoch 49/50\n",
      "370/370 [==============================] - 12s 33ms/step - loss: 0.0112 - accuracy: 0.1733\n",
      "Epoch 50/50\n",
      "370/370 [==============================] - 12s 32ms/step - loss: 0.0111 - accuracy: 0.1734\n"
     ]
    },
    {
     "data": {
      "text/plain": [
       "<keras.src.callbacks.History at 0x74a01329f640>"
      ]
     },
     "execution_count": 32,
     "metadata": {},
     "output_type": "execute_result"
    }
   ],
   "source": [
    "EPOCHS = 50\n",
    "model.fit(dataset, epochs=EPOCHS)"
   ]
  },
  {
   "cell_type": "code",
   "execution_count": 33,
   "id": "911199a7-fea4-422f-806a-8008b5f4e115",
   "metadata": {},
   "outputs": [
    {
     "name": "stderr",
     "output_type": "stream",
     "text": [
      "/home/yoojin/anaconda3/envs/TF_gpu/lib/python3.8/site-packages/keras/src/engine/training.py:3000: UserWarning: You are saving your model as an HDF5 file via `model.save()`. This file format is considered legacy. We recommend using instead the native Keras format, e.g. `model.save('my_model.keras')`.\n",
      "  saving_api.save_model(\n"
     ]
    }
   ],
   "source": [
    "# 모델을 저장할 경로\n",
    "model_save_path = \"/home/yoojin/aiffel/exploration_node/5_chatbot/chatbot_model.h5\"\n",
    "\n",
    "# 전체 모델 저장\n",
    "model.save(model_save_path)"
   ]
  },
  {
   "cell_type": "markdown",
   "id": "760a0f05-2851-4a2a-9fca-1b97844653dd",
   "metadata": {},
   "source": [
    "# 챗봇 평가하기"
   ]
  },
  {
   "cell_type": "markdown",
   "id": "92a7b27a-b6f8-4463-9d83-8fcf62695846",
   "metadata": {},
   "source": [
    "사실상 챗봇을 평가하는데는 accuracy나 loss값은 의미가 없을 수 있다.  \n",
    "심지어 accuracy가 너무 높아버리면 주어진 대답만 너무 잘하는 이상한 아이가 등장할지도?!  \n",
    "그리고 다른 그루분의 말씀으로는 accuracy가 99% 나왔는데 input data와 동일한 말을 했다는?! 말씀을 해주셨다.  \n",
    "\n",
    "찾아보니 챗봇평가로는   \n",
    "[챗봇 성능을 측정하기 위한 6가지 지표](https://headbreakz.tistory.com/entry/Chatbot-%EC%B1%97%EB%B4%87-%EC%84%B1%EB%8A%A5%EC%9D%84-%EC%B8%A1%EC%A0%95%ED%95%98%EA%B8%B0-%EC%9C%84%ED%95%9C-6%EA%B0%80%EC%A7%80-%EC%A7%80%ED%91%9C)  \n",
    "[LLM 성능평가를 위한 지표들](https://blog-ko.superb-ai.com/llm-evaluation-metrics/)  \n",
    "같은 이야기들이 있는데 특정 지표들은 대부분 번역이나 요약 모델과 관련된 내용이며, 챗봇의 경우 속도, 상황에 맞는 말 하는것 등 주관적인 평가가 크게 작용할 수 밖에 없는 평가방식에 대한 얘기들 뿐이었다.  \n",
    "\n",
    "챗봇의 성능에 평가할 수 있는 방법들에 대해 더 알아봐야 할 것 같다."
   ]
  },
  {
   "cell_type": "code",
   "execution_count": 34,
   "id": "4d515a06-9460-4ce7-955d-0db8e12b4d49",
   "metadata": {},
   "outputs": [],
   "source": [
    "def preprocess_sentence(sentence):\n",
    "  # 단어와 구두점 사이에 공백 추가.\n",
    "  # ex) 12시 땡! -> 12시 땡 !\n",
    "  sentence = re.sub(r\"([?.!,])\", r\" \\1 \", sentence)\n",
    "  sentence = sentence.strip()\n",
    "  return sentence"
   ]
  },
  {
   "cell_type": "code",
   "execution_count": 35,
   "id": "cc13a48b-43fb-4fc8-838b-d833fd320f7c",
   "metadata": {},
   "outputs": [],
   "source": [
    "def evaluate(sentence):\n",
    "  # 입력 문장에 대한 전처리\n",
    "  sentence = preprocess_sentence(sentence)\n",
    "\n",
    "  # 입력 문장에 시작 토큰과 종료 토큰을 추가\n",
    "  sentence = tf.expand_dims(\n",
    "      START_TOKEN + tokenizer.encode(sentence) + END_TOKEN, axis=0)\n",
    "\n",
    "  output = tf.expand_dims(START_TOKEN, 0)\n",
    "\n",
    "  # 디코더의 예측 시작\n",
    "  for i in range(MAX_LENGTH):\n",
    "    predictions = model(inputs=[sentence, output], training=False)\n",
    "\n",
    "    # 현재 시점의 예측 단어를 받아버전(형태소분석기 MECAB 사용해보기)온다.\n",
    "    predictions = predictions[:, -1:, :]\n",
    "    predicted_id = tf.cast(tf.argmax(predictions, axis=-1), tf.int32)\n",
    "\n",
    "    # 만약 현재 시점의 예측 단어가 종료 토큰이라면 예측을 중단\n",
    "    if tf.equal(predicted_id, END_TOKEN[0]):\n",
    "      break\n",
    "\n",
    "    # 현재 시점의 예측 단어를 output(출력)에 연결한다.\n",
    "    # output은 for문의 다음 루프에서 디코더의 입력이 된다.\n",
    "    output = tf.concat([output, predicted_id], axis=-1)\n",
    "\n",
    "  # 단어 예측이 모두 끝났다면 output을 리턴.\n",
    "  return tf.squeeze(output, axis=0)"
   ]
  },
  {
   "cell_type": "code",
   "execution_count": 36,
   "id": "81ecbf3f-03e6-422c-b7a8-701e6f6ff6c9",
   "metadata": {},
   "outputs": [],
   "source": [
    "def predict(sentence):\n",
    "  prediction = evaluate(sentence)\n",
    "\n",
    "  # prediction == 디코더가 리턴한 챗봇의 대답에 해당하는 정수 시퀀스\n",
    "  # tokenizer.decode()를 통해 정수 시퀀스를 문자열로 디코딩.\n",
    "  predicted_sentence = tokenizer.decode(\n",
    "      [i for i in prediction if i < tokenizer.vocab_size])\n",
    "\n",
    "  print('Input: {}'.format(sentence))\n",
    "  print('Output: {}'.format(predicted_sentence))\n",
    "\n",
    "  return predicted_sentence"
   ]
  },
  {
   "cell_type": "code",
   "execution_count": 37,
   "id": "f82ab268-f6f2-407f-8f6b-4994134125e5",
   "metadata": {
    "scrolled": true
   },
   "outputs": [
    {
     "name": "stdout",
     "output_type": "stream",
     "text": [
      "Input: \n",
      "Output: 지금 딱 힘들 때네요 .\n"
     ]
    }
   ],
   "source": [
    "output = predict(\"\")"
   ]
  },
  {
   "cell_type": "code",
   "execution_count": 38,
   "id": "b638f710-ab3e-4e3e-86db-c79607f1b948",
   "metadata": {},
   "outputs": [
    {
     "name": "stdout",
     "output_type": "stream",
     "text": [
      "Input: 오늘 우울해서 빵사먹었어.\n",
      "Output: 아무 생각 하지 말고 쉬세요 .\n"
     ]
    }
   ],
   "source": [
    "output = predict(\"오늘 우울해서 빵사먹었어.\")"
   ]
  },
  {
   "cell_type": "code",
   "execution_count": 39,
   "id": "9a5e6655-642f-49a8-818f-f280ef31c2e2",
   "metadata": {},
   "outputs": [
    {
     "name": "stdout",
     "output_type": "stream",
     "text": [
      "Input: 오늘 머리를 너무 많이썻더니 멍해.\n",
      "Output: 감기 조심하세요 .\n"
     ]
    }
   ],
   "source": [
    "output = predict(\"오늘 머리를 너무 많이썻더니 멍해.\")"
   ]
  },
  {
   "cell_type": "code",
   "execution_count": 40,
   "id": "f9f4968b-9c21-4b2d-ad10-08aa7621fa6e",
   "metadata": {},
   "outputs": [
    {
     "name": "stdout",
     "output_type": "stream",
     "text": [
      "Input: 안녕, 너는 이름이 뭐니?\n",
      "Output: 안녕 .\n"
     ]
    }
   ],
   "source": [
    "output = predict(\"안녕, 너는 이름이 뭐니?\")"
   ]
  },
  {
   "cell_type": "code",
   "execution_count": 41,
   "id": "17842ee9-89f8-4693-a0cc-2c9ccf901787",
   "metadata": {},
   "outputs": [
    {
     "name": "stdout",
     "output_type": "stream",
     "text": [
      "Input: 만나서 반가웠고 다신 보지 말자^^\n",
      "Output: 좋아하는 마음이 생각보다 컸나봐요 .\n"
     ]
    }
   ],
   "source": [
    "output = predict(\"만나서 반가웠고 다신 보지 말자^^\")"
   ]
  },
  {
   "cell_type": "code",
   "execution_count": 42,
   "id": "57106d7b-610d-4620-9980-f4daa5492094",
   "metadata": {},
   "outputs": [
    {
     "name": "stdout",
     "output_type": "stream",
     "text": [
      "Input: 만나서 더러웠고 다신 보지 말자^^\n",
      "Output: 좋아하는 마음이 깊은 가봐요 .\n"
     ]
    }
   ],
   "source": [
    "output = predict(\"만나서 더러웠고 다신 보지 말자^^\")"
   ]
  },
  {
   "cell_type": "markdown",
   "id": "29855c36-2e35-4aab-8bdc-4d0dffdba54d",
   "metadata": {},
   "source": [
    "# 개선해보기"
   ]
  },
  {
   "cell_type": "markdown",
   "id": "80f977b7-3c1c-471b-88ab-06524161a786",
   "metadata": {
    "jp-MarkdownHeadingCollapsed": true
   },
   "source": [
    "## Mecab 형태소 분석기 사용하기(설치가 안돼서 실패..나중에 코랩에서 다시 시도(-))"
   ]
  },
  {
   "cell_type": "markdown",
   "id": "9f901adb-04d0-40ce-8999-d77c099edaae",
   "metadata": {},
   "source": [
    "mecab이 성능이 좋고 작동시간도 짧아서 많이 사용한다."
   ]
  },
  {
   "cell_type": "code",
   "execution_count": null,
   "id": "8d4e5d38-98af-44fb-bff5-46c83710e49e",
   "metadata": {},
   "outputs": [],
   "source": [
    "# !pip install konlpy"
   ]
  },
  {
   "cell_type": "code",
   "execution_count": null,
   "id": "879aec39-725b-4320-a30a-12b22b23611f",
   "metadata": {},
   "outputs": [],
   "source": [
    "# !git clone https://github.com/SOMJANG/Mecab-ko-for-Google-Colab.git"
   ]
  },
  {
   "cell_type": "code",
   "execution_count": null,
   "id": "e501935d-4aff-4d11-aa89-ec08f8996434",
   "metadata": {},
   "outputs": [],
   "source": [
    "# cd Mecab-ko-for-Google-Colab\n",
    "# !cd mecab-0.996-ko-0.9.2\n",
    "# ! ls"
   ]
  },
  {
   "cell_type": "code",
   "execution_count": null,
   "id": "659209b1-5aae-408c-a6bf-f8961f771211",
   "metadata": {},
   "outputs": [],
   "source": [
    "# !bash install_mecab-ko_on_colab_light_220429.sh"
   ]
  },
  {
   "cell_type": "code",
   "execution_count": null,
   "id": "f6762016-6137-4529-9a04-f4d8ba5fb5d4",
   "metadata": {},
   "outputs": [],
   "source": [
    "from konlpy.tag import Mecab\n",
    "mecab = Mecab('/home/yoojin/aiffel/exploration_node/5_chatbot/Mecap-ko-for-Google-Colab/mecab-ko-dic-2.1.1-20180720')\n",
    "print(mecab.morphs(u'영등포구청역에 있는 맛집 좀 알려주세요.'))"
   ]
  },
  {
   "cell_type": "markdown",
   "id": "f1543094-de0c-41c1-81f8-90f2853cd53d",
   "metadata": {},
   "source": [
    "## 모델 더 무겁게 해보기(node와 구성 동일)"
   ]
  },
  {
   "cell_type": "code",
   "execution_count": 43,
   "id": "36dd2143-4742-4ecb-bc4d-475951c78f99",
   "metadata": {},
   "outputs": [
    {
     "name": "stdout",
     "output_type": "stream",
     "text": [
      "Model: \"transformer\"\n",
      "__________________________________________________________________________________________________\n",
      " Layer (type)                Output Shape                 Param #   Connected to                  \n",
      "==================================================================================================\n",
      " inputs (InputLayer)         [(None, None)]               0         []                            \n",
      "                                                                                                  \n",
      " dec_inputs (InputLayer)     [(None, None)]               0         []                            \n",
      "                                                                                                  \n",
      " enc_padding_mask (Lambda)   (None, 1, 1, None)           0         ['inputs[0][0]']              \n",
      "                                                                                                  \n",
      " encoder (Functional)        (None, None, 256)            3138048   ['inputs[0][0]',              \n",
      "                                                                     'enc_padding_mask[0][0]']    \n",
      "                                                                                                  \n",
      " look_ahead_mask (Lambda)    (None, 1, None, None)        0         ['dec_inputs[0][0]']          \n",
      "                                                                                                  \n",
      " dec_padding_mask (Lambda)   (None, 1, 1, None)           0         ['inputs[0][0]']              \n",
      "                                                                                                  \n",
      " decoder (Functional)        (None, None, 256)            3665408   ['dec_inputs[0][0]',          \n",
      "                                                                     'encoder[0][0]',             \n",
      "                                                                     'look_ahead_mask[0][0]',     \n",
      "                                                                     'dec_padding_mask[0][0]']    \n",
      "                                                                                                  \n",
      " outputs (Dense)             (None, None, 8140)           2091980   ['decoder[0][0]']             \n",
      "                                                                                                  \n",
      "==================================================================================================\n",
      "Total params: 8895436 (33.93 MB)\n",
      "Trainable params: 8895436 (33.93 MB)\n",
      "Non-trainable params: 0 (0.00 Byte)\n",
      "__________________________________________________________________________________________________\n"
     ]
    }
   ],
   "source": [
    "tf.keras.backend.clear_session()\n",
    "\n",
    "# 하이퍼파라미터\n",
    "NUM_LAYERS = 2 # 인코더와 디코더의 층의 개수\n",
    "D_MODEL = 256 # 인코더와 디코더 내부의 입, 출력의 고정 차원\n",
    "NUM_HEADS = 8 # 멀티 헤드 어텐션에서의 헤드 수 \n",
    "UNITS = 512 # 피드 포워드 신경망의 은닉층의 크기\n",
    "DROPOUT = 0.1 # 드롭아웃의 비율\n",
    "\n",
    "model = transformer(\n",
    "    vocab_size=VOCAB_SIZE,\n",
    "    num_layers=NUM_LAYERS,\n",
    "    units=UNITS,\n",
    "    d_model=D_MODEL,\n",
    "    num_heads=NUM_HEADS,\n",
    "    dropout=DROPOUT)\n",
    "\n",
    "model.summary()"
   ]
  },
  {
   "cell_type": "code",
   "execution_count": 44,
   "id": "0603c6b3-c274-474d-b983-860ee24e76df",
   "metadata": {},
   "outputs": [],
   "source": [
    "learning_rate = CustomSchedule(D_MODEL)\n",
    "\n",
    "optimizer = tf.keras.optimizers.Adam(\n",
    "    learning_rate, beta_1=0.9, beta_2=0.98, epsilon=1e-9)\n",
    "\n",
    "def accuracy(y_true, y_pred):\n",
    "  # 레이블의 크기는 (batch_size, MAX_LENGTH - 1)\n",
    "  y_true = tf.reshape(y_true, shape=(-1, MAX_LENGTH - 1))\n",
    "  return tf.keras.metrics.sparse_categorical_accuracy(y_true, y_pred)\n",
    "\n",
    "model.compile(optimizer=optimizer, loss=loss_function, metrics=[accuracy])"
   ]
  },
  {
   "cell_type": "code",
   "execution_count": 45,
   "id": "6ce44ad3-b078-4a5e-839d-4fa6050fe037",
   "metadata": {},
   "outputs": [
    {
     "name": "stdout",
     "output_type": "stream",
     "text": [
      "Epoch 1/50\n",
      "370/370 [==============================] - 35s 65ms/step - loss: 1.3286 - accuracy: 0.0354\n",
      "Epoch 2/50\n",
      "370/370 [==============================] - 14s 37ms/step - loss: 0.9949 - accuracy: 0.0513\n",
      "Epoch 3/50\n",
      "370/370 [==============================] - 13s 34ms/step - loss: 0.8999 - accuracy: 0.0563\n",
      "Epoch 4/50\n",
      "370/370 [==============================] - 13s 34ms/step - loss: 0.8159 - accuracy: 0.0616\n",
      "Epoch 5/50\n",
      "370/370 [==============================] - 12s 33ms/step - loss: 0.7205 - accuracy: 0.0704\n",
      "Epoch 6/50\n",
      "370/370 [==============================] - 12s 32ms/step - loss: 0.6200 - accuracy: 0.0811\n",
      "Epoch 7/50\n",
      "370/370 [==============================] - 12s 33ms/step - loss: 0.5177 - accuracy: 0.0926\n",
      "Epoch 8/50\n",
      "370/370 [==============================] - 12s 33ms/step - loss: 0.4205 - accuracy: 0.1038\n",
      "Epoch 9/50\n",
      "370/370 [==============================] - 12s 32ms/step - loss: 0.3349 - accuracy: 0.1143\n",
      "Epoch 10/50\n",
      "370/370 [==============================] - 12s 32ms/step - loss: 0.2632 - accuracy: 0.1243\n",
      "Epoch 11/50\n",
      "370/370 [==============================] - 12s 33ms/step - loss: 0.2126 - accuracy: 0.1317\n",
      "Epoch 12/50\n",
      "370/370 [==============================] - 11s 31ms/step - loss: 0.1647 - accuracy: 0.1399\n",
      "Epoch 13/50\n",
      "370/370 [==============================] - 12s 32ms/step - loss: 0.1236 - accuracy: 0.1478\n",
      "Epoch 14/50\n",
      "370/370 [==============================] - 12s 33ms/step - loss: 0.0945 - accuracy: 0.1537\n",
      "Epoch 15/50\n",
      "370/370 [==============================] - 12s 32ms/step - loss: 0.0755 - accuracy: 0.1578\n",
      "Epoch 16/50\n",
      "370/370 [==============================] - 12s 32ms/step - loss: 0.0620 - accuracy: 0.1610\n",
      "Epoch 17/50\n",
      "370/370 [==============================] - 11s 30ms/step - loss: 0.0520 - accuracy: 0.1631\n",
      "Epoch 18/50\n",
      "370/370 [==============================] - 11s 30ms/step - loss: 0.0449 - accuracy: 0.1649\n",
      "Epoch 19/50\n",
      "370/370 [==============================] - 12s 32ms/step - loss: 0.0384 - accuracy: 0.1664\n",
      "Epoch 20/50\n",
      "370/370 [==============================] - 12s 32ms/step - loss: 0.0354 - accuracy: 0.1671\n",
      "Epoch 21/50\n",
      "370/370 [==============================] - 12s 32ms/step - loss: 0.0315 - accuracy: 0.1682\n",
      "Epoch 22/50\n",
      "370/370 [==============================] - 12s 32ms/step - loss: 0.0281 - accuracy: 0.1690\n",
      "Epoch 23/50\n",
      "370/370 [==============================] - 12s 33ms/step - loss: 0.0261 - accuracy: 0.1696\n",
      "Epoch 24/50\n",
      "370/370 [==============================] - 12s 33ms/step - loss: 0.0252 - accuracy: 0.1697\n",
      "Epoch 25/50\n",
      "370/370 [==============================] - 12s 33ms/step - loss: 0.0229 - accuracy: 0.1703\n",
      "Epoch 26/50\n",
      "370/370 [==============================] - 12s 32ms/step - loss: 0.0203 - accuracy: 0.1710\n",
      "Epoch 27/50\n",
      "370/370 [==============================] - 12s 32ms/step - loss: 0.0192 - accuracy: 0.1713\n",
      "Epoch 28/50\n",
      "370/370 [==============================] - 12s 32ms/step - loss: 0.0189 - accuracy: 0.1713\n",
      "Epoch 29/50\n",
      "370/370 [==============================] - 12s 32ms/step - loss: 0.0174 - accuracy: 0.1717\n",
      "Epoch 30/50\n",
      "370/370 [==============================] - 12s 32ms/step - loss: 0.0164 - accuracy: 0.1719\n",
      "Epoch 31/50\n",
      "370/370 [==============================] - 12s 31ms/step - loss: 0.0162 - accuracy: 0.1720\n",
      "Epoch 32/50\n",
      "370/370 [==============================] - 12s 32ms/step - loss: 0.0154 - accuracy: 0.1723\n",
      "Epoch 33/50\n",
      "370/370 [==============================] - 12s 32ms/step - loss: 0.0150 - accuracy: 0.1723\n",
      "Epoch 34/50\n",
      "370/370 [==============================] - 12s 32ms/step - loss: 0.0142 - accuracy: 0.1725\n",
      "Epoch 35/50\n",
      "370/370 [==============================] - 12s 32ms/step - loss: 0.0136 - accuracy: 0.1727\n",
      "Epoch 36/50\n",
      "370/370 [==============================] - 12s 32ms/step - loss: 0.0135 - accuracy: 0.1728\n",
      "Epoch 37/50\n",
      "370/370 [==============================] - 12s 32ms/step - loss: 0.0125 - accuracy: 0.1729\n",
      "Epoch 38/50\n",
      "370/370 [==============================] - 12s 32ms/step - loss: 0.0127 - accuracy: 0.1729\n",
      "Epoch 39/50\n",
      "370/370 [==============================] - 12s 32ms/step - loss: 0.0120 - accuracy: 0.1730\n",
      "Epoch 40/50\n",
      "370/370 [==============================] - 12s 31ms/step - loss: 0.0116 - accuracy: 0.1732\n",
      "Epoch 41/50\n",
      "370/370 [==============================] - 12s 32ms/step - loss: 0.0110 - accuracy: 0.1733\n",
      "Epoch 42/50\n",
      "370/370 [==============================] - 12s 32ms/step - loss: 0.0116 - accuracy: 0.1732\n",
      "Epoch 43/50\n",
      "370/370 [==============================] - 12s 32ms/step - loss: 0.0110 - accuracy: 0.1733\n",
      "Epoch 44/50\n",
      "370/370 [==============================] - 12s 32ms/step - loss: 0.0110 - accuracy: 0.1733\n",
      "Epoch 45/50\n",
      "370/370 [==============================] - 12s 32ms/step - loss: 0.0107 - accuracy: 0.1734\n",
      "Epoch 46/50\n",
      "370/370 [==============================] - 12s 32ms/step - loss: 0.0110 - accuracy: 0.1734\n",
      "Epoch 47/50\n",
      "370/370 [==============================] - 12s 31ms/step - loss: 0.0111 - accuracy: 0.1734\n",
      "Epoch 48/50\n",
      "370/370 [==============================] - 12s 33ms/step - loss: 0.0110 - accuracy: 0.1734\n",
      "Epoch 49/50\n",
      "370/370 [==============================] - 12s 32ms/step - loss: 0.0105 - accuracy: 0.1735\n",
      "Epoch 50/50\n",
      "370/370 [==============================] - 12s 33ms/step - loss: 0.0102 - accuracy: 0.1736\n"
     ]
    },
    {
     "data": {
      "text/plain": [
       "<keras.src.callbacks.History at 0x749fb4567e50>"
      ]
     },
     "execution_count": 45,
     "metadata": {},
     "output_type": "execute_result"
    }
   ],
   "source": [
    "EPOCHS = 50\n",
    "model.fit(dataset, epochs=EPOCHS)"
   ]
  },
  {
   "cell_type": "code",
   "execution_count": 46,
   "id": "a4c8947e-18bd-4714-b85e-e9cbc288be3f",
   "metadata": {},
   "outputs": [],
   "source": [
    "# 모델을 저장할 경로\n",
    "model_save_path = \"/home/yoojin/aiffel/exploration_node/5_chatbot/chatbot_model_bigger.h5\"\n",
    "\n",
    "# 전체 모델 저장\n",
    "model.save(model_save_path)"
   ]
  },
  {
   "cell_type": "code",
   "execution_count": 47,
   "id": "c5a29ef1-4198-47f6-9d91-aa9ff65032e9",
   "metadata": {
    "scrolled": true
   },
   "outputs": [
    {
     "name": "stdout",
     "output_type": "stream",
     "text": [
      "Input: \n",
      "Output: 토닥여주고 싶네요 .\n"
     ]
    }
   ],
   "source": [
    "output = predict(\"\")"
   ]
  },
  {
   "cell_type": "code",
   "execution_count": 48,
   "id": "44fe3284-6a64-406e-b1f9-ffeaab7f78fe",
   "metadata": {},
   "outputs": [
    {
     "name": "stdout",
     "output_type": "stream",
     "text": [
      "Input: 오늘 우울해서 빵사먹었어.\n",
      "Output: 조금만 더 버텨보세요 .\n"
     ]
    }
   ],
   "source": [
    "output = predict(\"오늘 우울해서 빵사먹었어.\")"
   ]
  },
  {
   "cell_type": "code",
   "execution_count": 53,
   "id": "96b9c18d-5f52-4bcc-9350-4cd41ace0662",
   "metadata": {},
   "outputs": [
    {
     "name": "stdout",
     "output_type": "stream",
     "text": [
      "Input: 오늘 머리를 너무 많이썻더니 멍해.\n",
      "Output: 복스럽게 먹으면 더 좋죠 .\n"
     ]
    }
   ],
   "source": [
    "output = predict(\"오늘 머리를 너무 많이썻더니 멍해.\")"
   ]
  },
  {
   "cell_type": "code",
   "execution_count": 50,
   "id": "3ceb02ec-4ba8-4557-a02d-05ee8a96a509",
   "metadata": {},
   "outputs": [
    {
     "name": "stdout",
     "output_type": "stream",
     "text": [
      "Input: 안녕, 너는 이름이 뭐니?\n",
      "Output: 다시 헤어진 그 때로 돌아간 느낌이죠 .\n"
     ]
    }
   ],
   "source": [
    "output = predict(\"안녕, 너는 이름이 뭐니?\")"
   ]
  },
  {
   "cell_type": "code",
   "execution_count": 51,
   "id": "28f8c72b-9d5a-4a59-9324-3fee96a93a75",
   "metadata": {},
   "outputs": [
    {
     "name": "stdout",
     "output_type": "stream",
     "text": [
      "Input: 만나서 반가웠고 다신 보지 말자^^\n",
      "Output: 사랑은 변화하는 거예요 .\n"
     ]
    }
   ],
   "source": [
    "output = predict(\"만나서 반가웠고 다신 보지 말자^^\")"
   ]
  },
  {
   "cell_type": "code",
   "execution_count": 52,
   "id": "87d3bc1c-343d-4d27-96ed-facb18dc6c01",
   "metadata": {},
   "outputs": [
    {
     "name": "stdout",
     "output_type": "stream",
     "text": [
      "Input: 만나서 더러웠고 다신 보지 말자^^\n",
      "Output: 사랑은 수많은 장벽을 뛰어넘을 수 있어요 .\n"
     ]
    }
   ],
   "source": [
    "output = predict(\"만나서 더러웠고 다신 보지 말자^^\")"
   ]
  }
 ],
 "metadata": {
  "kernelspec": {
   "display_name": "Python 3 (ipykernel)",
   "language": "python",
   "name": "python3"
  },
  "language_info": {
   "codemirror_mode": {
    "name": "ipython",
    "version": 3
   },
   "file_extension": ".py",
   "mimetype": "text/x-python",
   "name": "python",
   "nbconvert_exporter": "python",
   "pygments_lexer": "ipython3",
   "version": "3.8.19"
  }
 },
 "nbformat": 4,
 "nbformat_minor": 5
}
